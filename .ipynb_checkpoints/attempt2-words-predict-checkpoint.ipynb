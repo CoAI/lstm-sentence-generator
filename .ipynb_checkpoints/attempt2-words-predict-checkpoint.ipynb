{
 "cells": [
  {
   "cell_type": "code",
   "execution_count": 145,
   "metadata": {},
   "outputs": [],
   "source": [
    "import numpy as np\n",
    "from keras.utils.data_utils import get_file\n",
    "from keras.models import Sequential\n",
    "from keras.layers import Dense, Activation\n",
    "from keras.layers import Dropout\n",
    "from keras.layers import LSTM\n",
    "from keras.callbacks import ModelCheckpoint\n",
    "from keras.utils import np_utils\n",
    "from keras.optimizers import RMSprop\n",
    "import sys\n",
    "import random\n",
    "import math\n",
    "import re"
   ]
  },
  {
   "cell_type": "markdown",
   "metadata": {},
   "source": [
    "### Load Text File and Build Vocabulary"
   ]
  },
  {
   "cell_type": "code",
   "execution_count": 146,
   "metadata": {},
   "outputs": [
    {
     "name": "stdout",
     "output_type": "stream",
     "text": [
      "['\\n', '!', ',', '.', ';', 'a', 'abduct', 'abducting', 'abduction', 'abiding', 'ability', 'able', 'about', 'above', 'abreast', 'abroad', 'abruptly', 'absence', 'absolute', 'absolutely', 'absorbed', 'absorbing', 'abstemious', 'absurd', 'academic', 'accent', 'accept', 'accepted', 'accident', 'accidental', 'accidents', 'accompanied', 'accord', 'according', 'account', 'accounted', 'accounts', 'accumulate', 'accurate', 'accurately', 'accused', 'acid', 'acquaintance', 'acquaintances', 'acquired', 'acquisition', 'acrimonious', 'across', 'act', 'acted', 'acting', 'action', 'active', 'activity', 'actual', 'actually', 'adam', 'adamant', 'add', 'added', 'adding', 'addition', 'address', 'addressed', 'addressing', 'adequate', 'adhering', 'admirable', 'admirably', 'admiration', 'admire', 'admit', 'admits', 'admitted', 'admittedly', 'adopting', 'adorned', 'advance', 'advanced', 'advancing', 'advantage', 'advantages', 'advice', 'advisability', 'advisable', 'advised', 'advisedly', 'affable', 'affably', 'affair', 'affairs', 'affect', 'affectionate', 'afford', 'affording', 'afoot', 'afraid', 'aft', 'after', 'afternoon', 'afterwards', 'again', 'against', 'age', 'aged', 'agent', 'agents', 'ages', 'aghast', 'agitated', 'agitation', 'ago', 'agonised', 'agonising', 'agony', 'agree', 'agreeable', 'agreed', 'agreeing', 'ah', 'ahead', 'aid', 'aimed', 'ain', 'air', 'airedale', 'airedales', 'airy', 'alarm', 'alarmed', 'alarming', 'aliases', 'alibi', 'alice', 'alike', 'alive', 'all', 'allow', 'allowances', 'allowed', 'allowing', 'allude', 'alluded', 'allusion', 'almighty', 'almost', 'alone', 'along', 'already', 'also', 'alter', 'alterations', 'altered', 'alternative', 'alternatives', 'altogether', 'always', 'am', 'amateur', 'amazed', 'amazement', 'amazing', 'ambassador', 'amenable', 'america', 'american', 'amiss', 'ammunition', 'amongst', 'amount', 'ample', 'amply', 'amuses', 'an', 'anarchists', 'ancient', 'and', 'anger', 'angle', 'angrily', 'angry', 'animal', 'animals', 'animosity', 'ankle', 'announce', 'announced', 'announcement', 'announcing', 'annoyance', 'annoyed', 'annoying', 'annoys', 'annual', 'another', 'answer', 'answered', 'ante', 'anticipated', 'anticipation', 'antiquated', 'anxious', 'anxiously', 'any', 'anybody', 'anyone', 'anything', 'anyway', 'anywhere', 'apace', 'apart', 'apathetic', 'apologetically', 'apologise', 'apologised', 'apparent', 'apparently', 'apparition', 'appealed', 'appealing', 'appealingly', 'appeals', 'appear', 'appearance', 'appearances', 'appeared', 'appearing', 'appears', 'appetite', 'applied', 'applies', 'appointment', 'appreciable', 'appreciate', 'appreciated', 'approached', 'approaches', 'approaching', 'approve', 'approved', 'approvingly', 'april', 'apt', 'aptitude', 'archibald', 'archie', 'architect', 'ard', 'are', 'aren', 'arise', 'arises', 'arm', 'armed', 'arms', 'army', 'arose', 'around', 'aroused', 'arousing', 'arrange', 'arranged', 'arrangement', 'arrangements', 'arrest', 'arrested', 'arresting', 'arrests', 'arrival', 'arrive', 'arrived', 'arrives', 'arriving', 'art', 'arthur', 'artificial', 'artist', 'artistic', 'as', 'ascertain', 'ash', 'ashen', 'ashford', 'ask', 'asked', 'asking', 'asks', 'asleep', 'aspect', 'aspects', 'ass', 'assail', 'assault', 'assembled', 'assertion', 'asset', 'assets', 'assignation', 'assist', 'assistance', 'assistant', 'associated', 'associates', 'assume', 'assumed', 'assuming', 'assumption', 'assurance', 'assure', 'assured', 'assuredly', 'astonishment', 'astounding', 'astoundingly', 'astute', 'asylum', 'at', 'atch', 'atmosphere', 'atom', 'atrocious', 'attached', 'attack', 'attacked', 'attacks', 'attempt', 'attempted', 'attempting', 'attempts', 'attending', 'attention', 'attentions', 'attentively', 'attitude', 'attract', 'attracted', 'attributed', 'audible', 'audience', 'august', 'aunt', 'aunts', 'auspicious', 'australia', 'australian', 'automatic', 'automatically', 'avail', 'average', 'averse', 'avert', 'avoid', 'avoided', 'avoiding', 'avowed', 'awaited', 'awake', 'awakened', 'aware', 'away', 'awe', 'awful', 'awfully', 'awkward', 'awkwardly', 'awoke', 'aye', 'ayrton', 'b', 'baby', 'back', 'backed', 'backwards', 'bad', 'badger', 'badly', 'baffles', 'baffling', 'bag', 'baggage', 'bait', 'balance', 'balanced', 'bald', 'ball', 'bally', 'banana', 'band', 'bandaged', 'bands', 'bang', 'banging', 'banisters', 'bank', 'banked', 'banks', 'bar', 'bare', 'barely', 'bark', 'barked', 'barking', 'barminster', 'barn', 'baronet', 'bars', 'bart', 'base', 'bashed', 'bashes', 'basket', 'bassinet', 'bat', 'bath', 'bathe', 'bathroom', 'battered', 'battle', 'be', 'beach', 'beak', 'beam', 'beaming', 'bean', 'bear', 'beard', 'bearded', 'beards', 'bearing', 'bears', 'beast', 'beat', 'beaten', 'beating', 'beats', 'beaumont', 'beauties', 'beautiful', 'beautifully', 'beauty', 'became', 'because', 'beckoned', 'beckoning', 'become', 'bed', 'bedclothes', 'bedroom', 'bedrooms', 'beds', 'beef', 'been', 'beer', 'bees', 'before', 'beg', 'began', 'begged', 'begging', 'begin', 'beginner', 'beginning', 'behalf', 'behind', 'being', 'belated', 'belaying', 'belief', 'believe', 'believed', 'believing', 'bell', 'bellowing', 'bells', 'belman', 'belong', 'belonged', 'belonging', 'belongs', 'beloved', 'below', 'belton', 'bemused', 'bench', 'bend', 'bending', 'benefactor', 'benefit', 'benjamin', 'bent', 'bentley', 'benton', 'bereft', 'berlin', 'bernard', 'beryl', 'beside', 'besides', 'best', 'bet', 'betsy', 'betted', 'better', 'betting', 'between', 'bewildered', 'bewilderment', 'beyond', 'bias', 'bicycled', 'big', 'bigger', 'biggest', 'bilge', 'bill', 'billiard', 'bilsington', 'bimbo', 'bird', 'birds', 'birth', 'birthday', 'biscuits', 'bishop', 'bit', 'biting', 'bits', 'bitter', 'bitterly', 'bizarre', 'black', 'blackened', 'blackguard', 'blackmail', 'blackmailer', 'blackmailing', 'blackness', 'blackton', 'blame', 'blameless', 'blank', 'blasphemy', 'blasted', 'blaze', 'blazes', 'blazing', 'bleeding', 'bless', 'blessed', 'blest', 'bletcheley', 'blighter', 'blind', 'blinding', 'blinds', 'blinking', 'block', 'blood', 'blooded', 'bloodsucker', 'bloomer', 'blount', 'blow', 'blowed', 'blows', 'blue', 'bluff', 'bluntly', 'blurred', 'bluster', 'board', 'boarded', 'boards', 'boat', 'bob', 'bodily', 'body', 'boiled', 'boils', 'bold', 'bolshevik', 'bolster', 'bolt', 'bolted', 'bolting', 'bolts', 'bomb', 'bombastic', 'bona', 'bone', 'bones', 'boodle', 'book', 'bookie', 'bookmaker', 'books', 'booth', 'boots', 'booty', 'bore', 'boring', 'born', 'borrow', 'borrowing', 'bosh', 'both', 'bother', 'bothered', 'bothering', 'bottle', 'bottom', 'bought', 'bound', 'boundary', 'bounds', 'bout', 'bouts', 'bow', 'bowed', 'bowler', 'box', 'boy', 'bracelets', 'bracer', 'brackenbury', 'brain', 'brainwave', 'branch', 'branches', 'brand', 'brandished', 'brandy', 'brass', 'brawl', 'break', 'breakfast', 'breaking', 'breaks', 'breast', 'breath', 'breathed', 'breathing', 'breeches', 'breeds', 'brewster', 'bribed', 'bricks', 'bridge', 'brief', 'briefly', 'briggs', 'bright', 'brighton', 'brilliant', 'bring', 'bringing', 'brings', 'british', 'broad', 'broke', 'broken', 'brother', 'brotherly', 'brothers', 'brought', 'brown', 'brows', 'bruise', 'brush', 'brutal', 'brute', 'bruton', 'buckets', 'buckingham', 'buddhist', 'build', 'building', 'built', 'bulky', 'bull', 'bullet', 'bullets', 'bully', 'bump', 'bunch', 'bundle', 'bung', 'bunged', 'bungled', 'bungo', 'burglar', 'burglars', 'burglary', 'buried', 'burly', 'burn', 'burnlea', 'burst', 'burton', 'bury', 'bus', 'buses', 'bushel', 'bushes', 'business', 'bustled', 'busy', 'but', 'butcher', 'butler', 'butt', 'butting', 'button', 'buy', 'buying', 'by', 'c', 'cain', 'call', 'called', 'calls', 'calm', 'calmly', 'came', 'camera', 'camp', 'campaign', 'campstool', 'can', 'candidly', 'candle', 'cannot', 'canter', 'cantrell', 'cap', 'capable', 'capital', 'capitals', 'car', 'card', 'cards', 'care', 'cared', 'career', 'careful', 'carefully', 'careless', 'carelessness', 'carpet', 'carriage', 'carried', 'carrier', 'carry', 'carrying', 'cars', 'carter', 'carting', 'case', 'cases', 'cash', 'cast', 'casual', 'casually', 'cat', 'catastrophe', 'catch', 'catching', 'catface', 'caught', 'cause', 'caused', 'causes', 'causing', 'caution', 'cautiously', 'cavalcade', 'cease', 'ceased', 'ceaselessly', 'ceiling', 'ceilings', 'celebrated', 'celebrations', 'celebrity', 'cent', 'centre', 'ceremonial', 'ceremony', 'cert', 'certain', 'certainly', 'certainty', 'cessation', 'chaffed', 'chain', 'chair', 'chairs', 'champion', 'chance', 'chanced', 'chances', 'change', 'changed', 'changes', 'chaos', 'chap', 'chaps', 'character', 'characteristic', 'characters', 'charge', 'charing', 'charm', 'charmers', 'charming', 'chase', 'chauffeur', 'cheadle', 'cheap', 'cheaper', 'cheated', 'cheeks', 'cheer', 'cheerful', 'cheerfully', 'cheerily', 'cheery', 'chemist', 'cheques', 'cherry', 'chest', 'chicken', 'chief', 'child', 'childish', 'children', 'chilly', 'chiltington', 'chime', 'chimed', 'china', 'chink', 'chipped', 'choicer', 'choking', 'choleric', 'choose', 'chorus', 'chose', 'christopher', 'chronicle', 'chuckled', 'church', 'churchyard', 'cigar', 'cigarette', 'cigarettes', 'cinch', 'circumstances', 'circumstantial', 'circus', 'citizen', 'city', 'claim', 'clandestine', 'clapped', 'clasped', 'clasping', 'class', 'classes', 'clawing', 'clean', 'cleanliness', 'clear', 'cleared', 'clearer', 'clearing', 'clearly', 'clears', 'clenched', 'clergyman', 'clever', 'cleverness', 'click', 'client', 'cliff', 'cliffs', 'climax', 'climbed', 'clinched', 'clips', 'cloaked', 'clock', 'close', 'closed', 'closely', 'closer', 'closest', 'closing', 'clothes', 'clouded', 'club', 'clubs', 'clue', 'clues', 'clump', 'clustered', 'clutched', 'co', 'coach', 'coarse', 'coast', 'coat', 'cobra', 'cocaine', 'cock', 'cocktail', 'coco', 'coffee', 'coherent', 'coincidence', 'coining', 'cold', 'collapsed', 'collar', 'collared', 'collected', 'collection', 'collector', 'collision', 'collusion', 'colonel', 'colour', 'coloured', 'colours', 'colt', 'comber', 'combination', 'combined', 'come', 'comer', 'comes', 'comfortable', 'coming', 'commands', 'commenced', 'commend', 'comment', 'commented', 'commenting', 'comments', 'commission', 'commissioned', 'commit', 'committed', 'common', 'commotion', 'communicated', 'communication', 'communicative', 'community', 'companion', 'comparatively', 'compared', 'comparison', 'compartment', 'compartments', 'compels', 'compendiums', 'complacently', 'complaint', 'complete', 'completed', 'completely', 'complexion', 'complicated', 'complications', 'compliment', 'comply', 'comprehensible', 'compressed', 'comprising', 'compromising', 'conceal', 'concealed', 'conceivable', 'concentrate', 'concentrated', 'concentration', 'conception', 'concern', 'concerned', 'concerns', 'conclude', 'concluded', 'concluding', 'conclusion', 'conclusions', 'conclusive', 'conclusively', 'condemned', 'condition', 'conditions', 'conducive', 'conduct', 'conducts', 'confederate', 'conferring', 'confess', 'confessed', 'confidence', 'confidential', 'confined', 'confines', 'confirm', 'confirmed', 'confound', 'confounded', 'confr', 'confronted', 'confused', 'confusing', 'confusion', 'congenital', 'congratulated', 'congratulations', 'conjurer', 'conjuring', 'connect', 'connected', 'connecting', 'connection', 'conscientious', 'conscious', 'consciousness', 'consented', 'consequently', 'consider', 'considerable', 'considerably', 'considered', 'considers', 'consignment', 'consisted', 'consolation', 'conspicuous', 'constable', 'constables', 'consult', 'consulted', 'consumed', 'contact', 'contemplate', 'contemplated', 'contemptuous', 'contemptuously', 'content', 'contention', 'contents', 'continent', 'continual', 'continually', 'continue', 'continued', 'contraband', 'contrary', 'contrast', 'contribute', 'contritely', 'control', 'controlled', 'controlling', 'convenient', 'conversant', 'conversation', 'converse', 'converted', 'convey', 'conveys', 'conviction', 'convinced', 'convincingly', 'convulsive', 'cook', 'cooks', 'cool', 'copper', 'copy', 'cord', 'cork', 'corner', 'corners', 'cornish', 'corona', 'coroner', 'coronet', 'correct', 'correctly', 'correspondence', 'corridor', 'costly', 'costs', 'cottage', 'cottages', 'cough', 'could', 'couldn', 'counsel', 'count', 'countered', 'counting', 'country', 'countryman', 'county', 'couple', 'coupled', 'couples', 'course', 'court', 'courteous', 'cousin', 'cousins', 'cover', 'covered', 'covering', 'covertly', 'crack', 'crash', 'crashed', 'crashing', 'craving', 'crawled', 'crawley', 'crazy', 'creak', 'creaked', 'creaking', 'creaks', 'cream', 'credit', 'creel', 'creeping', 'crept', 'crescendo', 'cricket', 'cried', 'crime', 'crimes', 'criminal', 'criminals', 'critic', 'critically', 'croaked', 'crone', 'crooked', 'cross', 'crossed', 'crossing', 'crouch', 'crouching', 'crowd', 'crowded', 'crown', 'crowning', 'croxton', 'croyde', 'crude', 'cruise', 'crumpled', 'crushed', 'cry', 'cryptically', 'cue', 'culprit', 'cunning', 'cup', 'cupboard', 'cupboards', 'cupped', 'cur', 'curate', 'curiosity', 'curious', 'curiously', 'cursed', 'cursedly', 'cursory', 'curtain', 'curtains', 'curtly', 'curtsied', 'cushion', 'custody', 'custom', 'customary', 'customer', 'customers', 'cut', 'cuthbertson', 'cuts', 'cutting', 'd', 'dabble', 'daddy', 'daily', 'dairy', 'dalton', 'dam', 'damage', 'damaging', 'damme', 'damn', 'damnable', 'damned', 'damning', 'damp', 'dance', 'dancing', 'danged', 'danger', 'dangerous', 'dangled', 'daniel', 'dare', 'dared', 'daren', 'daring', 'dark', 'darkness', 'darling', 'darlington', 'darned', 'dart', 'darting', 'dash', 'dashed', 'dastardly', 'date', 'dau', 'daughter', 'davidson', 'davis', 'dawn', 'dawned', 'day', 'daylight', 'daynton', 'days', 'dazed', 'dazedly', 'dead', 'deadly', 'deaf', 'deafening', 'deafer', 'deafness', 'deal', 'dealer', 'dealing', 'dealt', 'dean', 'dear', 'death', 'deathly', 'debrett', 'debris', 'debt', 'deceived', 'decent', 'decide', 'decided', 'decidedly', 'decision', 'decoyed', 'deduce', 'deduced', 'deduction', 'deed', 'deeming', 'deep', 'defeated', 'defence', 'defending', 'definite', 'definitely', 'deformed', 'degree', 'delay', 'delays', 'delchester', 'deliberate', 'deliberated', 'deliberately', 'delicious', 'delighted', 'delightful', 'delightfully', 'delivered', 'delusion', 'demanded', 'demeanour', 'demonstrated', 'den', 'denied', 'denies', 'denizens', 'denmark', 'dense', 'deny', 'denying', 'depart', 'departed', 'departure', 'depend', 'depends', 'deposited', 'deprecating', 'depressed', 'depriving', 'depth', 'depths', 'derive', 'derived', 'descended', 'describe', 'description', 'desert', 'deserted', 'deserve', 'deserved', 'deserves', 'desired', 'desirous', 'desisted', 'desk', 'despair', 'despairingly', 'desperate', 'desperately', 'destination', 'destined', 'destroy', 'destroyed', 'detached', 'detail', 'details', 'detained', 'detected', 'detection', 'detective', 'detectives', 'determination', 'determined', 'deuce', 'deuced', 'developed', 'developing', 'development', 'developments', 'device', 'devil', 'devilish', 'devilry', 'devils', 'devoted', 'diagnosis', 'dialect', 'diametrically', 'diamonds', 'dick', 'dickens', 'did', 'didn', 'die', 'died', 'diet', 'difference', 'different', 'difficult', 'difficulties', 'difficulty', 'digestion', 'digestions', 'dignity', 'dim', 'dimly', 'dine', 'dined', 'dining', 'dinner', 'dip', 'direction', 'directly', 'dirt', 'dirty', 'disagree', 'disappearance', 'disappeared', 'disappearing', 'disappointed', 'disappointment', 'disapproval', 'disapproved', 'discernible', 'discerning', 'discharge', 'discharged', 'discoloured', 'discomfiture', 'discomfort', 'disconcerting', 'discover', 'discovered', 'discovery', 'discrepancy', 'discretion', 'discuss', 'discussed', 'discussion', 'disengaged', 'disgusted', 'dislike', 'disliked', 'dismiss', 'dismissed', 'dispensed', 'dispirited', 'displayed', 'disposal', 'dispute', 'disregarding', 'dissuade', 'distance', 'distant', 'distemper', 'distinctly', 'distorted', 'distracted', 'distress', 'distributed', 'district', 'disturb', 'disused', 'dixon', 'do', 'docketed', 'doctor', 'document', 'dodge', 'does', 'doesn', 'dog', 'dogs', 'doing', 'doings', 'don', 'done', 'donkey', 'door', 'doors', 'doorstep', 'doorway', 'dope', 'dorchester', 'dorset', 'dorsetshire', 'dosed', 'dossing', 'double', 'doubt', 'doubtful', 'doubtfully', 'doubtless', 'down', 'downstair', 'downstairs', 'downwards', 'downwater', 'dozen', 'dr', 'draft', 'dragged', 'drained', 'draining', 'dramas', 'drank', 'drastic', 'draw', 'drawer', 'drawing', 'drawn', 'dreadful', 'dream', 'dreamed', 'dress', 'dressed', 'dressing', 'drew', 'dried', 'drifted', 'drink', 'drinking', 'drinks', 'dripping', 'drive', 'drivelling', 'driven', 'driver', 'drives', 'driving', 'drop', 'dropped', 'drops', 'drove', 'drown', 'drowned', 'drowning', 'drowsy', 'drunk', 'drunken', 'drury', 'dry', 'dryly', 'duchess', 'duchesses', 'dud', 'due', 'duke', 'duly', 'dumbfounded', 'dummy', 'dunt', 'dupes', 'during', 'dusk', 'dusting', 'duty', 'e', 'each', 'eagerly', 'ear', 'earing', 'earl', 'earlier', 'earls', 'early', 'earned', 'earnestly', 'ears', 'earshot', 'earth', 'earthbound', 'earthly', 'ease', 'easel', 'easier', 'easiest', 'easily', 'east', 'easter', 'easy', 'eats', 'ebbing', 'edge', 'edged', 'edified', 'edition', 'educated', 'eerie', 'effect', 'efficacy', 'effort', 'effusion', 'egg', 'eggs', 'eight', 'eighth', 'eighty', 'either', 'elaborate', 'elapsed', 'elder', 'elderly', 'electric', 'eleven', 'eliminated', 'elimination', 'else', 'elucidate', 'eludes', 'em', 'embarrassed', 'embedded', 'embezzled', 'emphatically', 'employer', 'employing', 'empty', 'emptying', 'en', 'enable', 'enacted', 'encountered', 'encouragement', 'encumbered', 'end', 'endeavour', 'endeavoured', 'endeavouring', 'ended', 'endorsed', 'ends', 'enemies', 'enemy', 'engage', 'engaged', 'engagement', 'engagements', 'engine', 'england', 'english', 'englishman', 'engraved', 'engrossed', 'enigmatically', 'enjoy', 'enjoyed', 'enmity', 'enormous', 'enormously', 'enough', 'ensue', 'entailed', 'enter', 'entered', 'entering', 'entertain', 'entertaining', 'entertainment', 'enthusiastic', 'entire', 'entirely', 'entrance', 'entrant', 'entry', 'envelope', 'envelopes', 'envious', 'epidemics', 'epilogue', 'episode', 'equally', 'equipment', 'er', 'ere', 'erected', 'errand', 'error', 'escape', 'escaped', 'escaping', 'especially', 'essential', 'essentially', 'establish', 'established', 'estate', 'estimate', 'eternally', 'eternity', 'eucalyptus', 'euclid', 'europe', 'europeans', 'evaporate', 'even', 'evening', 'event', 'events', 'eventualities', 'ever', 'every', 'everybody', 'everyone', 'everything', 'evidence', 'evident', 'evidently', 'evil', 'exact', 'exactly', 'exaggerate', 'exaggerates', 'examination', 'examine', 'examined', 'examining', 'example', 'examples', 'excelled', 'excellent', 'except', 'excitable', 'excited', 'excitedly', 'excitement', 'exclusive', 'excuse', 'excusing', 'execution', 'exhaustive', 'existed', 'existence', 'existent', 'exonerated', 'exonerates', 'expect', 'expectantly', 'expected', 'expecting', 'expeditions', 'expend', 'expense', 'expenses', 'expensive', 'experience', 'experiment', 'expert', 'expiation', 'explain', 'explained', 'explaining', 'explanation', 'explicit', 'explode', 'exploded', 'exploration', 'explored', 'exploring', 'explosion', 'exposes', 'exposure', 'express', 'expressed', 'expressing', 'expression', 'expressionless', 'expressly', 'extend', 'extensive', 'extent', 'extinguished', 'extra', 'extracted', 'extraordinarily', 'extraordinary', 'extremely', 'eye', 'eyebrows', 'eyes', 'fabrics', 'face', 'faced', 'faces', 'facing', 'facsimile', 'fact', 'factor', 'facts', 'fade', 'faded', 'failed', 'fails', 'failure', 'faint', 'fainted', 'faintest', 'fainting', 'faintly', 'fair', 'fairly', 'faith', 'faked', 'fall', 'fallconer', 'fallen', 'falling', 'falls', 'false', 'fame', 'familiar', 'family', 'fancy', 'fantastic', 'far', 'farm', 'farmer', 'farming', 'farther', 'fashion', 'fashioned', 'fast', 'fastened', 'fate', 'father', 'fault', 'favour', 'favourite', 'fear', 'feared', 'fearful', 'fearing', 'feasible', 'feathered', 'feathers', 'feature', 'features', 'fed', 'fee', 'feeble', 'feed', 'feel', 'feeling', 'feelings', 'feels', 'feet', 'fell', 'feller', 'fellow', 'fellows', 'felt', 'feminine', 'fence', 'fenced', 'ferocity', 'fervently', 'festoons', 'fetched', 'feud', 'fever', 'few', 'fey', 'fibre', 'fiction', 'fictitious', 'fiddling', 'fides', 'field', 'fields', 'fiend', 'fierce', 'fifteen', 'fifty', 'fight', 'figure', 'figures', 'fill', 'filled', 'filling', 'fills', 'film', 'films', 'filter', 'filthy', 'final', 'finally', 'finances', 'financial', 'financier', 'find', 'finding', 'fine', 'fined', 'finger', 'fingerprint', 'fingerprints', 'fingers', 'finish', 'finished', 'fire', 'fired', 'firm', 'firmly', 'first', 'fish', 'fishing', 'fist', 'fists', 'fit', 'fits', 'fitted', 'fitting', 'five', 'fiver', 'fix', 'fixed', 'fixes', 'fizzled', 'flagged', 'flair', 'flames', 'flaming', 'flared', 'flash', 'flashed', 'flatly', 'fleeting', 'flew', 'flicker', 'flickered', 'flickering', 'flies', 'flight', 'flitted', 'float', 'flood', 'flooded', 'floor', 'floors', 'florid', 'flow', 'flowed', 'flower', 'flown', 'fluently', 'flummoxed', 'flung', 'flush', 'flushed', 'fog', 'foiled', 'foist', 'folding', 'folkestone', 'follow', 'followed', 'following', 'follows', 'folly', 'fond', 'food', 'fool', 'fooling', 'foolish', 'foolishly', 'fools', 'foot', 'footman', 'footmarks', 'footprint', 'footprints', 'footsteps', 'for', 'forbearing', 'forbidding', 'force', 'forced', 'fore', 'forefathers', 'forefinger', 'forehead', 'foreign', 'foreigner', 'foreigners', 'foreman', 'foresters', 'forger', 'forget', 'forgetting', 'forging', 'forgive', 'forgot', 'forgotten', 'form', 'formality', 'formed', 'former', 'forming', 'forms', 'forrader', 'fort', 'forth', 'forthcoming', 'fortnight', 'fortress', 'fortunately', 'fortune', 'forty', 'forward', 'forwards', 'foster', 'fought', 'foul', 'found', 'foundations', 'four', 'foursome', 'fourteen', 'fourth', 'fox', 'fragments', 'framed', 'france', 'frank', 'frankly', 'frankness', 'fraud', 'frazzle', 'freak', 'free', 'freely', 'french', 'frenchman', 'frequent', 'frequently', 'fresh', 'friend', 'friendly', 'friends', 'fright', 'frighten', 'frightened', 'frightful', 'frightfully', 'fringed', 'fro', 'frockcoat', 'frocks', 'from', 'front', 'frost', 'frown', 'frowned', 'frowning', 'fruitless', 'fry', 'fulfil', 'full', 'fuller', 'fully', 'fulton', 'fumbled', 'fuming', 'fun', 'function', 'funeral', 'funny', 'furious', 'furiously', 'further', 'fury', 'future', 'g', 'gad', 'gadsby', 'gag', 'gained', 'gallery', 'galley', 'galliday', 'galling', 'gallows', 'gambit', 'game', 'games', 'gang', 'gap', 'gaps', 'garage', 'garbled', 'garden', 'gardener', 'gardening', 'garment', 'gas', 'gasped', 'gate', 'gather', 'gathered', 'gathers', 'gauze', 'gave', 'gaze', 'gazing', 'gem', 'general', 'generally', 'genial', 'genially', 'genius', 'gentleman', 'gentlemen', 'gently', 'gents', 'genuine', 'genuinely', 'george', 'get', 'gets', 'getting', 'ghastly', 'ghost', 'ghostly', 'ghosts', 'gibe', 'gift', 'girl', 'girls', 'give', 'given', 'gives', 'giving', 'glad', 'glance', 'glanced', 'glancing', 'glare', 'glared', 'glaring', 'glass', 'glasses', 'gleam', 'gleamed', 'glimpse', 'glint', 'glistened', 'gloat', 'gloomily', 'gloriously', 'glory', 'gloves', 'glow', 'go', 'god', 'goes', 'going', 'goings', 'gold', 'goldberg', 'golden', 'golf', 'golfer', 'golfing', 'gone', 'good', 'goodness', 'goods', 'goodwood', 'gosh', 'got', 'gout', 'governor', 'gown', 'grace', 'graciously', 'gradually', 'grand', 'granger', 'grant', 'grantchester', 'grantfield', 'grantham', 'grasp', 'grasped', 'grass', 'grate', 'grateful', 'gratefully', 'grave', 'gravely', 'graver', 'graves', 'gravity', 'grayson', 'great', 'greatest', 'greatly', 'greedily', 'green', 'greet', 'grew', 'grey', 'greycourt', 'greyhound', 'grievous', 'grille', 'grimly', 'grin', 'grinned', 'grinning', 'grins', 'grit', 'groomley', 'grooves', 'ground', 'groundless', 'grounds', 'group', 'groves', 'grow', 'growing', 'growled', 'grown', 'grows', 'grub', 'grudge', 'gruesome', 'gruff', 'grunt', 'grunted', 'grunting', 'guaranteed', 'guard', 'guardedly', 'guardian', 'guardians', 'guards', 'guess', 'guessed', 'guests', 'guilty', 'guinea', 'gun', 'gunners', 'guys', 'ha', 'habit', 'habits', 'habitually', 'had', 'hadn', 'haggle', 'hair', 'hairpin', 'hairs', 'hairy', 'half', 'hall', 'hallo', 'hamilton', 'hammering', 'hand', 'handcuffed', 'handcuffs', 'handed', 'handel', 'handicap', 'handing', 'handle', 'handled', 'handles', 'hands', 'handwriting', 'handy', 'hang', 'hanging', 'hangman', 'happen', 'happened', 'happening', 'happy', 'hard', 'harder', 'hardly', 'hark', 'harm', 'harmless', 'harness', 'harold', 'harped', 'harper', 'harpoon', 'harpoons', 'harry', 'harvey', 'has', 'hasn', 'hasp', 'haste', 'hastily', 'hasty', 'hat', 'hatchaways', 'hate', 'hated', 'hatred', 'hats', 'haul', 'haunted', 'have', 'haven', 'having', 'hazard', 'he', 'head', 'headed', 'headlights', 'heads', 'headstrong', 'health', 'heap', 'heaps', 'hear', 'heard', 'hearing', 'hears', 'hearsay', 'heart', 'hearted', 'hearts', 'hearty', 'heated', 'heaven', 'heavens', 'heavily', 'heaving', 'heavy', 'hectic', 'hedge', 'heeding', 'heedless', 'heel', 'height', 'heightened', 'heir', 'held', 'hell', 'helmet', 'help', 'helped', 'helpful', 'helping', 'helpless', 'helplessly', 'helps', 'hen', 'hence', 'henry', 'her', 'herbert', 'here', 'herself', 'hesitated', 'hesitating', 'hesitation', 'hi', 'hid', 'hidden', 'hide', 'hideous', 'hides', 'hiding', 'high', 'higher', 'highest', 'highly', 'highness', 'him', 'himself', 'hinges', 'hinside', 'hinspector', 'hint', 'hints', 'hire', 'hired', 'his', 'hiss', 'hit', 'hitting', 'ho', 'hoax', 'hobbled', 'hobbling', 'hobby', 'hoe', 'hoisted', 'hold', 'holders', 'holding', 'hole', 'holiday', 'holies', 'holmlea', 'holy', 'home', 'honest', 'honestly', 'honesty', 'honeymoon', 'honour', 'honours', 'hook', 'hooligans', 'hop', 'hope', 'hoped', 'hopeful', 'hopefully', 'hopeless', 'hopes', 'hoping', 'hopped', 'horizontal', 'horn', 'horribly', 'horrified', 'horror', 'horsham', 'hospital', 'hospitality', 'host', 'hot', 'hotel', 'hound', 'hounds', 'hour', 'hourly', 'hours', 'house', 'household', 'householder', 'housekeeper', 'housemaid', 'houses', 'hovel', 'hovering', 'how', 'however', 'howl', 'howled', 'hubert', 'huge', 'human', 'humbly', 'humour', 'humouredly', 'hundred', 'hung', 'hunting', 'hurdle', 'hurled', 'hurling', 'hurried', 'hurry', 'hurrying', 'hurt', 'hurting', 'husband', 'husbands', 'hushed', 'hypodermic', 'hypothesis', 'hypothetical', 'hysterics', 'i', 'idden', 'idea', 'ideally', 'ideas', 'identical', 'identity', 'idiot', 'idiots', 'idle', 'idly', 'if', 'ignorance', 'ignorant', 'ignored', 'ignoring', 'ii', 'iii', 'ill', 'illiterate', 'illness', 'illuminating', 'illustrate', 'illustrated', 'illustrates', 'illustrious', 'imaginary', 'imagination', 'imagine', 'imagined', 'imbecile', 'immediate', 'immediately', 'immense', 'immensely', 'immersed', 'impassive', 'impatience', 'impeccable', 'impecunious', 'impeded', 'imperative', 'imperceptible', 'impersonate', 'impertinence', 'imperturbable', 'imperturbably', 'implement', 'implements', 'implicated', 'implicitly', 'implied', 'imply', 'importance', 'important', 'impossible', 'impostor', 'impressed', 'impression', 'impressively', 'imprints', 'imprisonment', 'improbable', 'improved', 'in', 'incalculable', 'incapable', 'incarnate', 'inch', 'inches', 'incident', 'incidentally', 'incidents', 'inclined', 'including', 'incoherent', 'income', 'incomprehensible', 'inconceivable', 'inconvenience', 'inconvenienced', 'increase', 'increased', 'increasing', 'increasingly', 'incredible', 'incredibly', 'incredulously', 'incriminate', 'incriminating', 'incumbent', 'incurable', 'incurred', 'incurring', 'ind', 'indecent', 'indeed', 'indian', 'indicated', 'indicating', 'indictment', 'indignantly', 'indignation', 'indiscreet', 'indisposed', 'individual', 'individuals', 'indoors', 'induce', 'induced', 'indulged', 'inevitable', 'inevitably', 'inexperienced', 'infernal', 'infernally', 'inferno', 'infested', 'inflamed', 'inflicting', 'influence', 'influenza', 'inform', 'informants', 'information', 'informed', 'informing', 'infrequent', 'ingenious', 'ingenuity', 'ingratiating', 'inherently', 'inhuman', 'iniquitous', 'injections', 'ink', 'inmate', 'inn', 'innocence', 'innocent', 'innocently', 'innuendoes', 'inquest', 'inquired', 'inquiries', 'inquiring', 'inquiringly', 'inscrutable', 'inshore', 'inside', 'insinuations', 'insolence', 'insoluble', 'inspect', 'inspected', 'inspection', 'inspector', 'inspectors', 'inspire', 'inspired', 'install', 'installed', 'instance', 'instant', 'instantaneous', 'instantaneously', 'instantly', 'instead', 'instinct', 'instinctively', 'instructions', 'instructive', 'insult', 'integrity', 'intelligence', 'intelligent', 'intend', 'intended', 'intense', 'intensely', 'intention', 'intentions', 'intently', 'interest', 'interested', 'interesting', 'interminable', 'interpretation', 'interrogate', 'interrupt', 'interrupted', 'interrupting', 'interruption', 'intervals', 'intervention', 'interview', 'interviewed', 'interviews', 'intimately', 'into', 'intriguing', 'introduce', 'introduced', 'introducing', 'introduction', 'intrudes', 'intrusion', 'intuition', 'invalid', 'invaluable', 'invariable', 'invariably', 'inveigle', 'inveigling', 'invent', 'invented', 'invention', 'investigating', 'investigation', 'invitation', 'invited', 'involve', 'involved', 'irascible', 'irish', 'iron', 'irregular', 'irrelevant', 'irresponsible', 'irritable', 'irritably', 'irritating', 'irritation', 'is', 'isabel', 'isn', 'issue', 'it', 'italian', 'itching', 'its', 'itself', 'iv', 'j', 'jack', 'james', 'jane', 'janet', 'jar', 'jaw', 'jealous', 'jerk', 'jerked', 'jest', 'jim', 'job', 'jobs', 'jocular', 'joe', 'john', 'johnson', 'johnston', 'join', 'joined', 'joining', 'joint', 'joke', 'jokes', 'joking', 'jolt', 'jouet', 'jove', 'jovial', 'judge', 'judging', 'jugglers', 'juice', 'july', 'jumble', 'jumbo', 'jump', 'jumped', 'jumping', 'jumpy', 'junction', 'juncture', 'june', 'just', 'justice', 'justifiable', 'justified', 'k', 'katherine', 'keen', 'keenly', 'keep', 'keeper', 'keeping', 'kennelman', 'kennels', 'kent', 'kept', 'key', 'keyhole', 'keys', 'kick', 'kidnap', 'kill', 'killed', 'killing', 'kin', 'kind', 'kinder', 'kindly', 'kink', 'kiss', 'kissed', 'kisses', 'kitchen', 'kneeling', 'knees', 'knelt', 'knew', 'knife', 'knit', 'knock', 'knocked', 'know', 'knowing', 'knowledge', 'known', 'knows', 'label', 'laboriously', 'labourer', 'labourers', 'labours', 'lack', 'lad', 'ladies', 'lads', 'lady', 'ladyship', 'lag', 'laid', 'lame', 'lamp', 'lancers', 'land', 'landed', 'landing', 'landlord', 'landmark', 'landowner', 'landscape', 'landsman', 'lane', 'language', 'languages', 'lantern', 'lapse', 'larceny', 'large', 'last', 'lasted', 'lastly', 'late', 'later', 'latest', 'latter', 'laugh', 'laughed', 'laughing', 'laughter', 'law', 'lawn', 'lay', 'layer', 'laying', 'lead', 'leader', 'leading', 'leaf', 'leamington', 'leaned', 'leaning', 'leant', 'learned', 'learns', 'least', 'leather', 'leave', 'leaves', 'leaving', 'lecherous', 'led', 'leer', 'left', 'leg', 'legitimately', 'legs', 'leicestershire', 'leisure', 'leisurely', 'lend', 'lends', 'length', 'lengths', 'lengthy', 'lenient', 'lens', 'lenses', 'lent', 'leprous', 'less', 'lesser', 'lesson', 'lest', 'let', 'letter', 'letters', 'letting', 'level', 'liar', 'libellous', 'liberty', 'library', 'lie', 'lied', 'lies', 'life', 'lift', 'lifted', 'light', 'lighthouse', 'lighting', 'lightly', 'lights', 'like', 'liked', 'likely', 'likes', 'lilac', 'limited', 'limits', 'limp', 'limped', 'limply', 'line', 'lines', 'ling', 'lingo', 'lining', 'link', 'links', 'lip', 'lips', 'liquid', 'listen', 'listened', 'listening', 'lit', 'literal', 'literally', 'littered', 'little', 'live', 'lived', 'liverpool', 'livery', 'lives', 'living', 'll', 'load', 'loaded', 'loan', 'loathe', 'loathed', 'local', 'locality', 'locating', 'lock', 'locked', 'locks', 'lodge', 'lodging', 'log', 'logic', 'london', 'lonely', 'long', 'longer', 'longing', 'look', 'looked', 'looking', 'looks', 'loose', 'loosen', 'loot', 'lord', 'lordship', 'lore', 'lose', 'losing', 'loss', 'lost', 'lot', 'loud', 'louder', 'love', 'lovely', 'lover', 'loving', 'low', 'lowering', 'lucid', 'luck', 'luckily', 'lucky', 'lucrative', 'lud', 'luggage', 'lunatic', 'lunch', 'lunched', 'lurch', 'lurched', 'lured', 'lurking', 'lying', 'm', 'mac', 'machine', 'machines', 'mad', 'madam', 'made', 'madhouse', 'madman', 'magazine', 'magic', 'magistrate', 'magistrates', 'magnificent', 'magnifying', 'maguire', 'maid', 'maids', 'main', 'mainly', 'mainspring', 'maitland', 'majesty', 'major', 'make', 'makes', 'making', 'male', 'malvern', 'man', 'manage', 'managed', 'manager', 'manfield', 'mango', 'maniac', 'manifest', 'manifestation', 'manifestations', 'manifestly', 'manipulating', 'manner', 'manners', 'manservant', 'manslaughter', 'mantelpiece', 'manufacturer', 'many', 'map', 'march', 'marching', 'mare', 'margarine', 'marjorie', 'mark', 'marked', 'market', 'marks', 'marlborough', 'marley', 'marlingham', 'marm', 'marriage', 'married', 'marry', 'marrying', 'marseilles', 'marshall', 'martello', 'martha', 'martin', 'marvellous', 'mashie', 'mask', 'masked', 'masonic', 'mass', 'massive', 'master', 'mastered', 'masterly', 'masticate', 'mastiff', 'match', 'mate', 'material', 'matrimonial', 'matter', 'mattered', 'matters', 'maxims', 'maximum', 'maxwell', 'may', 'maybe', 'maybury', 'mayhew', 'mciver', 'me', 'meal', 'meals', 'mean', 'meaning', 'means', 'meant', 'meantime', 'measure', 'measured', 'measuring', 'medchester', 'meddlesome', 'medley', 'meet', 'meeting', 'melodramatic', 'member', 'members', 'memorise', 'memory', 'men', 'mental', 'mentality', 'mention', 'mentioned', 'mentioning', 'merchant', 'merciful', 'mere', 'meredith', 'merely', 'merrifield', 'merry', 'mervyn', 'mess', 'message', 'messages', 'messrs', 'messy', 'meston', 'met', 'metal', 'method', 'methodical', 'methods', 'mexbury', 'midday', 'middle', 'midlands', 'midnight', 'midway', 'might', 'mighty', 'mild', 'mildly', 'mile', 'mileage', 'miles', 'military', 'miller', 'millington', 'millingtons', 'millionaire', 'mince', 'mincing', 'mind', 'mine', 'minute', 'minutely', 'minutes', 'mirror', 'miscreants', 'misjudged', 'miss', 'missed', 'missing', 'mistake', 'mistaken', 'mistakes', 'mistaking', 'mister', 'mixed', 'mixture', 'mixtures', 'moaning', 'mode', 'moderate', 'moderation', 'modern', 'modesty', 'moistened', 'moment', 'momentary', 'moments', 'money', 'moneylender', 'moneylending', 'mongolian', 'mongrel', 'monkey', 'monkeyed', 'monkeying', 'monstrous', 'months', 'moods', 'moody', 'moon', 'moral', 'morality', 'mordon', 'more', 'moreover', 'morning', 'morose', 'morphia', 'morrison', 'morrow', 'mortal', 'mortgaged', 'most', 'mother', 'motioned', 'motionless', 'motive', 'motor', 'motored', 'motoring', 'mould', 'mouldy', 'moustache', 'mouth', 'mouthed', 'mouthing', 'move', 'moved', 'movement', 'movements', 'moving', 'mr', 'mrs', 'much', 'mud', 'muddy', 'mule', 'mulish', 'mumbled', 'murder', 'murdered', 'murderer', 'murdering', 'murmured', 'museum', 'must', 'mustn', 'muttered', 'muttering', 'mutton', 'muzzy', 'my', 'myself', 'mysteries', 'mysterious', 'mysteriously', 'mystery', 'mystified', 'mythical', 'nab', 'nage', 'nail', 'nails', 'naked', 'name', 'named', 'nameless', 'nancy', 'narrowed', 'narrowly', 'nasty', 'natalie', 'native', 'natives', 'natural', 'naturally', 'nature', 'nautical', 'naval', 'near', 'neared', 'nearer', 'nearest', 'nearly', 'nearness', 'neat', 'necessary', 'necessity', 'neck', 'need', 'needed', 'needless', 'needlessly', 'needn', 'negative', 'negatives', 'negotiations', 'neighbour', 'neighbourhood', 'neighbouring', 'neighbours', 'neither', 'nellie', 'nephew', 'nerve', 'nerves', 'nervous', 'nervously', 'ness', 'nest', 'nesting', 'net', 'never', 'nevertheless', 'new', 'newly', 'news', 'newspaper', 'newspapers', 'next', 'niblick', 'niblicks', 'nice', 'nicely', 'nick', 'nickname', 'niece', 'night', 'nightcap', 'nightfall', 'nightmare', 'nights', 'nine', 'nineteenth', 'ninety', 'no', 'nobody', 'nocturnal', 'nod', 'nodded', 'nodding', 'noise', 'noiselessly', 'noises', 'nominal', 'non', 'none', 'nonplussed', 'noon', 'noose', 'nor', 'normal', 'nose', 'not', 'notch', 'note', 'notebook', 'notepaper', 'notes', 'nothing', 'notice', 'noticeable', 'noticed', 'notices', 'notification', 'notion', 'notorious', 'novel', 'november', 'now', 'nr', 'nuisance', 'number', 'numbers', 'nuptials', 'nurse', 'nursing', 'nuts', 'nutshell', 'o', 'oath', 'obey', 'obeyed', 'object', 'objection', 'obliged', 'obliterate', 'obliterated', 'obscure', 'observation', 'observer', 'obstinate', 'obstinately', 'obtain', 'obtained', 'obvious', 'obviously', 'occasion', 'occasional', 'occasions', 'occupant', 'occupants', 'occupation', 'occupied', 'occupier', 'occupy', 'occur', 'occurred', 'occurrence', 'occurring', 'occurs', 'octogenarian', 'odd', 'odds', 'odious', 'of', 'off', 'offence', 'offend', 'offensive', 'offer', 'offered', 'office', 'officer', 'offices', 'official', 'officials', 'offspring', 'often', 'oh', 'oi', 'oil', 'old', 'older', 'olmlea', 'ominous', 'omitting', 'on', 'once', 'oncoming', 'one', 'ones', 'only', 'open', 'opened', 'opening', 'opens', 'openwork', 'operation', 'operations', 'opinion', 'opportunity', 'opposed', 'opposite', 'optic', 'or', 'ordeal', 'order', 'ordered', 'ordering', 'orderly', 'orders', 'ordinary', 'organisation', 'original', 'originally', 'originated', 'ostensibly', 'other', 'others', 'otherwise', 'ought', 'oughtn', 'ounce', 'our', 'ours', 'ourselves', 'ouses', 'out', 'outburst', 'outfit', 'outline', 'outlined', 'outrage', 'outrageous', 'outright', 'outside', 'outskirts', 'outstretched', 'outward', 'outwit', 'oval', 'over', 'overboard', 'overcoat', 'overcome', 'overflowed', 'overheard', 'overlook', 'overlooked', 'overnight', 'overstepping', 'overtake', 'overtook', 'overturned', 'overwound', 'ow', 'owed', 'owes', 'owing', 'own', 'owned', 'owner', 'owners', 'oxbridge', 'oxford', 'oyster', 'p', 'pace', 'pacified', 'pacing', 'pack', 'packed', 'packet', 'packets', 'packing', 'padre', 'page', 'pah', 'paid', 'pails', 'pain', 'painfully', 'pains', 'paint', 'painter', 'painting', 'pair', 'pal', 'palace', 'pale', 'palm', 'pals', 'panic', 'paper', 'papers', 'paragraph', 'parallel', 'paraphernalia', 'parcel', 'parchment', 'pardon', 'parent', 'parents', 'paris', 'parish', 'parishioners', 'park', 'parker', 'parlourmaid', 'part', 'parted', 'parthian', 'partially', 'participation', 'particular', 'particularly', 'parties', 'parts', 'party', 'pass', 'passage', 'passed', 'passengers', 'passes', 'passing', 'passionately', 'past', 'pasteboard', 'pastie', 'pastime', 'patent', 'path', 'pathetic', 'pathetically', 'pauper', 'pause', 'paused', 'pawing', 'paxton', 'pay', 'paying', 'payment', 'peace', 'peaceful', 'peas', 'peculiar', 'pecuniary', 'pedlington', 'peeled', 'peer', 'peerage', 'peered', 'peering', 'pegged', 'pencil', 'penetrated', 'penholder', 'penknife', 'penny', 'pennyworth', 'pensive', 'people', 'pepper', 'per', 'percentage', 'perceptible', 'perfect', 'perfectly', 'performance', 'perfunctorily', 'perfunctory', 'perhaps', 'periods', 'permanent', 'permanently', 'permission', 'permitted', 'perpetrated', 'perrier', 'persecuted', 'persecution', 'persisted', 'person', 'personal', 'personality', 'personally', 'persons', 'pertinent', 'perturbed', 'pervaded', 'pest', 'pestilential', 'pet', 'pete', 'petrol', 'pew', 'phenomenon', 'philanthropists', 'phone', 'photo', 'photograph', 'photographer', 'photographic', 'photographs', 'photography', 'photos', 'phrase', 'phrases', 'physical', 'pick', 'picked', 'picking', 'pickpocket', 'picture', 'pictured', 'pictures', 'piece', 'pieces', 'pierre', 'pig', 'pikestaff', 'pile', 'pillow', 'pillows', 'pilot', 'pimply', 'pin', 'pinioned', 'pink', 'pinned', 'pint', 'pints', 'pipe', 'pistol', 'pit', 'pitch', 'pitched', 'piteously', 'pitiful', 'pitted', 'pitting', 'pity', 'pitying', 'pityingly', 'place', 'placed', 'placidly', 'plain', 'plainly', 'plaintive', 'plan', 'planned', 'plans', 'planted', 'plaster', 'plate', 'plates', 'platform', 'platitude', 'plausible', 'play', 'played', 'player', 'playfair', 'playing', 'plays', 'plea', 'pleasant', 'pleasantly', 'please', 'pleased', 'pleasurable', 'pleasure', 'pledged', 'plentiful', 'plenty', 'plot', 'plucked', 'plucking', 'plugged', 'plumb', 'plumber', 'plumbing', 'pocket', 'pocketing', 'pockets', 'point', 'pointed', 'pointer', 'pointing', 'pointless', 'points', 'poison', 'poisoned', 'police', 'policeman', 'policemen', 'polished', 'polite', 'politeness', 'political', 'pomposity', 'pon', 'pondering', 'ponderous', 'ponsonby', 'pooh', 'poohed', 'pool', 'pools', 'poor', 'popular', 'population', 'pored', 'porodoc', 'portentously', 'porth', 'portraits', 'pose', 'posed', 'poser', 'posing', 'position', 'positive', 'positively', 'positives', 'posse', 'posses', 'possess', 'possessed', 'possession', 'possibility', 'possible', 'possibly', 'post', 'posted', 'postman', 'postmark', 'postpone', 'postscript', 'pot', 'pottering', 'potting', 'pound', 'pounding', 'pounds', 'poured', 'powder', 'power', 'powerful', 'powerless', 'powers', 'practical', 'practically', 'practice', 'praises', 'pray', 'pre', 'preamble', 'precariously', 'precaution', 'precautions', 'preceding', 'precious', 'precipitating', 'precise', 'precisely', 'preclude', 'preconceived', 'prefer', 'prejudge', 'prejudicial', 'preliminary', 'premeditated', 'premises', 'preoccupation', 'preparations', 'prepare', 'prepared', 'preparing', 'preposterous', 'presence', 'present', 'presentable', 'presented', 'presents', 'preserve', 'press', 'pressed', 'pressure', 'preston', 'presumably', 'presume', 'presumption', 'presumptive', 'pretence', 'pretend', 'pretending', 'pretty', 'prevent', 'prevented', 'prevents', 'previous', 'previously', 'preyed', 'price', 'pride', 'priest', 'priests', 'principal', 'principally', 'principle', 'print', 'prints', 'prised', 'prison', 'prisoner', 'prisoners', 'privacy', 'private', 'privilege', 'probability', 'probable', 'probably', 'problem', 'proceed', 'proceeded', 'proceeding', 'proceedings', 'proceeds', 'process', 'produce', 'produced', 'producing', 'production', 'profanity', 'profess', 'professed', 'profession', 'professional', 'professionally', 'profile', 'profiting', 'profound', 'progress', 'progressing', 'prolonged', 'prolonging', 'promise', 'promised', 'promptly', 'pronounced', 'proof', 'proper', 'properly', 'property', 'propitious', 'propose', 'proposed', 'proposes', 'proposition', 'prosecution', 'prospective', 'prosperity', 'prot', 'protect', 'protest', 'protests', 'protruding', 'proud', 'prove', 'proved', 'proven', 'proverb', 'proves', 'provide', 'provided', 'proving', 'provision', 'provisionally', 'proviso', 'provocation', 'prussic', 'pub', 'public', 'published', 'pubs', 'puerile', 'pug', 'pulborough', 'pull', 'pulled', 'pulling', 'pulses', 'pump', 'punctuated', 'punishment', 'purchase', 'pure', 'purplish', 'purpose', 'pursued', 'pursuit', 'push', 'pushed', 'put', 'putting', 'puzzled', 'puzzling', 'qualifies', 'qualify', 'quandary', 'quarrel', 'quarrelling', 'quarrels', 'quarry', 'quarter', 'quarters', 'queer', 'queerly', 'question', 'questions', 'quick', 'quicken', 'quickened', 'quicker', 'quickly', 'quickness', 'quiet', 'quietly', 'quit', 'quite', 'quote', 'rabbits', 'raced', 'racing', 'rack', 'racking', 'radius', 'rag', 'rage', 'ragged', 'raging', 'railway', 'rain', 'raining', 'raise', 'raised', 'raises', 'raising', 'rambling', 'ran', 'ranapore', 'rang', 'range', 'rapacious', 'rapid', 'rapidly', 'rapport', 'rare', 'rarely', 'rasping', 'rat', 'rate', 'rates', 'rather', 'rattle', 'raw', 'ray', 're', 'reached', 'reaction', 'read', 'reading', 'ready', 'real', 'realise', 'realised', 'realises', 'realising', 'reality', 'really', 'realms', 'reappear', 'rear', 'reason', 'reasons', 'reassuringly', 'rebelled', 'recalled', 'receipt', 'receive', 'received', 'receiver', 'recent', 'recently', 'reciprocity', 'reckon', 'reckons', 'recognise', 'recognised', 'recollect', 'reconnoitre', 'reconstruction', 'recover', 'recovered', 'rectified', 'rectory', 'recurring', 'red', 'reddish', 'redeem', 'reek', 'refer', 'references', 'referred', 'refers', 'refilled', 'refrained', 'refresh', 'refusal', 'refuse', 'refused', 'refuses', 'refusing', 'regard', 'regarded', 'regards', 'regime', 'regiment', 'registry', 'regret', 'regrettable', 'regretted', 'regulation', 'rejoined', 'relapsed', 'relate', 'relation', 'relationship', 'relax', 'release', 'released', 'relentless', 'reliance', 'relief', 'relieved', 'religious', 'relish', 'reluctantly', 'remain', 'remained', 'remaining', 'remains', 'remark', 'remarkable', 'remarkably', 'remarked', 'remarks', 'remember', 'remembered', 'remembering', 'reminded', 'reminds', 'remote', 'remotely', 'remove', 'removed', 'removing', 'render', 'renew', 'rent', 'rented', 'repaired', 'repapered', 'repeated', 'replace', 'replaced', 'replied', 'reply', 'report', 'reported', 'reprimand', 'reputation', 'reputed', 'request', 'require', 'required', 'requires', 'res', 'research', 'resemblance', 'resented', 'resentment', 'residence', 'residents', 'resigned', 'resist', 'respect', 'respectable', 'respected', 'respects', 'respiration', 'responsible', 'rest', 'rested', 'restive', 'result', 'results', 'resumed', 'retained', 'retaliated', 'retired', 'retiring', 'retold', 'retreating', 'return', 'returned', 'returning', 'returns', 'reveal', 'revealed', 'revealing', 'revenge', 'reverend', 'reverie', 'reverted', 'revolver', 'revolvers', 'reward', 'rewarded', 'rheumy', 'rhythmical', 'rich', 'richard', 'richly', 'rid', 'rider', 'ridiculed', 'ridiculous', 'riding', 'rifle', 'right', 'righteousness', 'rightly', 'rigid', 'ring', 'ringing', 'ripen', 'rise', 'risen', 'rising', 'risk', 'risky', 'rival', 'river', 'road', 'roads', 'roar', 'roared', 'robbing', 'robe', 'robert', 'roberts', 'roll', 'rolled', 'roller', 'rollo', 'rolls', 'ronald', 'room', 'rooms', 'rooted', 'rope', 'rose', 'rot', 'rotten', 'rough', 'roughly', 'round', 'roundabout', 'rounded', 'rounder', 'rounds', 'rouse', 'roused', 'rousing', 'route', 'roving', 'row', 'rows', 'royal', 'rubbed', 'rubber', 'rubbers', 'rubbing', 'rubbish', 'rude', 'rudeness', 'rueful', 'ruefully', 'ruffled', 'rule', 'ruled', 'rules', 'rum', 'rumbled', 'rumour', 'run', 'rung', 'running', 'runs', 'ruse', 'rush', 'rushed', 'rushing', 'russia', 'rustle', 'rusty', 's', 'sack', 'sacked', 'sacred', 'sadly', 'safe', 'safely', 'safest', 'said', 'sail', 'sailor', 'sailorman', 'sailors', 'saint', 'sainted', 'sake', 'sale', 'salt', 'saluted', 'salvation', 'sam', 'same', 'sampled', 'samples', 'samuel', 'sanderson', 'sane', 'sang', 'sank', 'sapient', 'sapper', 'sarcasm', 'sarcastic', 'sarcastically', 'sash', 'sat', 'satisfaction', 'satisfactory', 'satisfied', 'satisfies', 'saturnine', 'sauntering', 'saunton', 'savage', 'savagely', 'save', 'saved', 'saw', 'say', 'sayers', 'saying', 'says', 'scandal', 'scandals', 'scant', 'scar', 'scarcely', 'scared', 'scene', 'scenes', 'scent', 'scenting', 'sceptical', 'scheme', 'schemes', 'school', 'schoolboy', 'schoolfellows', 'scoffed', 'scorching', 'score', 'scores', 'scotch', 'scotland', 'scott', 'scoundrel', 'scoundrels', 'scouts', 'scrambling', 'scrap', 'scraped', 'scratch', 'scratched', 'scratches', 'scratchy', 'scrawled', 'scream', 'screamed', 'screaming', 'screen', 'screening', 'screwed', 'scrutiny', 'scullery', 'sea', 'seafaring', 'sealed', 'search', 'searched', 'searchers', 'searching', 'seared', 'seat', 'seated', 'secluded', 'seclusion', 'second', 'secondary', 'seconds', 'secret', 'secretarial', 'secretary', 'section', 'see', 'seeing', 'seeking', 'seem', 'seemed', 'seems', 'seen', 'sees', 'seething', 'seized', 'seizing', 'seldom', 'selected', 'self', 'sell', 'semi', 'send', 'sending', 'sensation', 'sensational', 'sense', 'senses', 'sent', 'sentence', 'separate', 'separated', 'september', 'sergeant', 'sergius', 'series', 'serious', 'seriously', 'seriousness', 'servant', 'servants', 'serve', 'served', 'service', 'sesame', 'set', 'setting', 'settle', 'settled', 'settles', 'seven', 'sevenoaks', 'several', 'severe', 'severely', 'sewing', 'seymour', 'shaded', 'shadow', 'shady', 'shaft', 'shake', 'shaken', 'shakes', 'shakily', 'shaking', 'shall', 'shallow', 'shambles', 'shame', 'shan', 'shape', 'share', 'sharp', 'sharply', 'shattered', 'shaven', 'she', 'sheepishly', 'sheer', 'sheet', 'shell', 'shelter', 'shillings', 'shining', 'ship', 'shock', 'shocking', 'shockingly', 'shoe', 'shoes', 'shone', 'shook', 'shoot', 'shooting', 'shoots', 'shop', 'shore', 'short', 'shortage', 'shortly', 'shot', 'shots', 'should', 'shoulder', 'shoulders', 'shouldn', 'shout', 'shouted', 'shouting', 'show', 'showed', 'shower', 'showing', 'shown', 'shows', 'shrank', 'shred', 'shrewd', 'shrieked', 'shrubbery', 'shrugged', 'shunted', 'shut', 'shuts', 'shutting', 'sick', 'side', 'sideboard', 'sides', 'sideways', 'siding', 'sight', 'sign', 'signal', 'signalled', 'signature', 'signed', 'significance', 'significant', 'significantly', 'signify', 'silence', 'silent', 'silently', 'silhouetted', 'sill', 'silly', 'similar', 'similarity', 'simple', 'simply', 'simpson', 'since', 'sincerely', 'sinclair', 'singing', 'single', 'singly', 'singularly', 'sinister', 'sinker', 'sip', 'siphon', 'sipped', 'sir', 'sister', 'sit', 'sitting', 'situation', 'six', 'sixty', 'size', 'sized', 'sketch', 'sketching', 'skill', 'skilled', 'skimmed', 'skin', 'skinned', 'skirting', 'skull', 'sleep', 'sleepy', 'sleight', 'slept', 'sleuth', 'sleuthing', 'slight', 'slightest', 'slightly', 'slip', 'slipped', 'slipping', 'slithered', 'slot', 'slow', 'slowed', 'slower', 'slowing', 'slowly', 'sluggishly', 'slung', 'smacked', 'small', 'smaller', 'smallest', 'smart', 'smartest', 'smell', 'smile', 'smiled', 'smirk', 'smith', 'smoke', 'smokes', 'smoking', 'smoothed', 'smuggle', 'smuggler', 'smuggling', 'snag', 'snail', 'snake', 'snap', 'snapped', 'snapshot', 'snarkie', 'snarl', 'snarled', 'snarling', 'snatched', 'sneer', 'sneering', 'sneezed', 'sniffed', 'snort', 'snorted', 'snow', 'so', 'soaked', 'sob', 'sobbing', 'sober', 'social', 'society', 'soda', 'softly', 'soiled', 'solace', 'sold', 'soldier', 'sole', 'solicitor', 'solicitously', 'solid', 'solitary', 'solution', 'solve', 'solved', 'solves', 'solving', 'some', 'somebody', 'somehow', 'someone', 'something', 'sometime', 'sometimes', 'somewhat', 'somewhere', 'son', 'sons', 'soon', 'sooner', 'soothingly', 'sore', 'sorry', 'sort', 'sorts', 'sought', 'soul', 'sound', 'sounded', 'soundings', 'sounds', 'soup', 'source', 'sources', 'south', 'spacing', 'spaniel', 'spare', 'spark', 'sparkling', 'spattered', 'speak', 'speaker', 'speaking', 'speaks', 'spear', 'special', 'specialised', 'specialises', 'specialist', 'speciality', 'specify', 'spectator', 'speechless', 'speed', 'speeding', 'spending', 'spent', 'spirit', 'spirited', 'spirits', 'spite', 'splash', 'splashes', 'splendid', 'splintered', 'splintering', 'split', 'spluttered', 'spoil', 'spoiled', 'spoke', 'spoken', 'spoon', 'sporting', 'sportsman', 'spot', 'spots', 'spotted', 'spotting', 'sprang', 'sprawling', 'spread', 'spring', 'springs', 'springy', 'sprinkled', 'sprung', 'spun', 'spur', 'square', 'squat', 'squatted', 'squeaking', 'squeamish', 'squeezing', 'squire', 'st', 'stage', 'staged', 'staggered', 'stain', 'stained', 'stains', 'staircase', 'stairs', 'stake', 'stalbridge', 'stammer', 'stammered', 'stamp', 'stamped', 'stand', 'standards', 'standing', 'standish', 'stands', 'standstill', 'stapleton', 'star', 'stared', 'staring', 'stark', 'starlight', 'start', 'started', 'starting', 'startling', 'starts', 'state', 'stated', 'statement', 'states', 'station', 'stationmaster', 'stations', 'stavert', 'stay', 'stayed', 'staying', 'steadily', 'steady', 'steal', 'stealing', 'stealthy', 'steam', 'steel', 'steep', 'steered', 'stenway', 'step', 'stepped', 'steps', 'stereoscopic', 'stern', 'sternly', 'stewardship', 'stick', 'sticking', 'sticky', 'stiff', 'stiffen', 'stigma', 'still', 'stillness', 'stirred', 'stirring', 'stock', 'stocker', 'stole', 'stolen', 'stolid', 'stomach', 'stone', 'stones', 'stood', 'stop', 'stopped', 'stopping', 'stops', 'store', 'stored', 'storehouse', 'stores', 'stories', 'story', 'stout', 'straggling', 'straight', 'straightened', 'straightening', 'strained', 'straining', 'straits', 'strange', 'strangely', 'strangeness', 'stranger', 'strangers', 'strangled', 'strap', 'stray', 'stream', 'streaming', 'street', 'strength', 'strengthened', 'stressing', 'stretch', 'stretched', 'strike', 'striking', 'stroke', 'stroll', 'strolled', 'strolling', 'strong', 'stronger', 'struck', 'struggle', 'struggled', 'struggling', 'stubbornly', 'stuck', 'studied', 'studio', 'study', 'studying', 'stuff', 'stumble', 'stumbled', 'stumbling', 'stump', 'stumped', 'stung', 'stunned', 'stupefied', 'stupendous', 'stupid', 'stupidity', 'stupidly', 'stutter', 'style', 'stylo', 'subdued', 'subject', 'subjected', 'submerged', 'subpoena', 'subsequent', 'substantiated', 'substituted', 'subtle', 'suburban', 'succeed', 'succeeded', 'succeeds', 'success', 'successful', 'successor', 'such', 'sucker', 'sudden', 'suddenly', 'suddenness', 'suffering', 'sufficient', 'sufficiently', 'suggest', 'suggested', 'suggesting', 'suggestion', 'suggestive', 'suicide', 'suit', 'suitable', 'sullenly', 'sum', 'summarises', 'summat', 'summer', 'summoning', 'sun', 'sunblind', 'sunday', 'sundays', 'sunken', 'sunny', 'super', 'supernatural', 'supper', 'supplication', 'supplies', 'supplying', 'support', 'suppose', 'supposed', 'supposing', 'suppressed', 'suppressing', 'sure', 'surely', 'surest', 'surf', 'surface', 'surmise', 'surmised', 'surmises', 'surprise', 'surprised', 'surprising', 'surreptitiously', 'surrounded', 'surrounding', 'surroundings', 'survey', 'survive', 'suspect', 'suspected', 'suspecting', 'suspicion', 'suspicions', 'suspicious', 'suspiciously', 'sussex', 'swab', 'swallow', 'swallowed', 'swarm', 'swarthy', 'swayed', 'swaying', 'swear', 'swears', 'sweat', 'sweating', 'sweet', 'swerve', 'swettypore', 'swimmingly', 'swine', 'swinging', 'swings', 'swirl', 'switch', 'switched', 'swivel', 'swords', 'swore', 'sworn', 'swung', 'sydney', 'syllable', 'symington', 'syringe', 'system', 'systematically', 't', 'table', 'tackle', 'tackled', 'tail', 'take', 'taken', 'takes', 'taking', 'tale', 'talent', 'talie', 'talk', 'talked', 'talking', 'talks', 'tall', 'tallied', 'tamils', 'tank', 'tankard', 'tanned', 'tantamount', 'tap', 'tape', 'taped', 'tapped', 'tapping', 'tar', 'tarpaulin', 'tarred', 'tarring', 'taste', 'taught', 'taxi', 'taxpayers', 'tea', 'teaching', 'tearing', 'technically', 'teeth', 'telegraph', 'telephone', 'telephoned', 'tell', 'telling', 'tells', 'temper', 'tempered', 'temple', 'temporarily', 'temporary', 'temptation', 'ten', 'tenant', 'tenants', 'tending', 'tennis', 'tenor', 'tense', 'tensely', 'tension', 'tentatively', 'tenterden', 'tenth', 'terminated', 'terms', 'terrible', 'terribly', 'terrier', 'terriers', 'terror', 'tersely', 'test', 'testily', 'tetterbury', 'th', 'than', 'thank', 'thanked', 'thanks', 'that', 'the', 'their', 'them', 'themselves', 'then', 'theory', 'there', 'thereafter', 'thereby', 'therefore', 'these', 'they', 'thick', 'thickens', 'thickly', 'thigh', 'thin', 'thing', 'things', 'think', 'thinking', 'thinks', 'third', 'thirsty', 'thirty', 'this', 'thorough', 'thoroughly', 'those', 'though', 'thought', 'thoughtful', 'thoughtfully', 'thoughts', 'thousand', 'threat', 'threatened', 'threatening', 'threats', 'three', 'threes', 'threw', 'thrice', 'thrill', 'throat', 'through', 'throughout', 'throw', 'thrower', 'throwing', 'thrown', 'thumb', 'thumbs', 'thump', 'thumped', 'thumping', 'thus', 'tiara', 'ticked', 'ticket', 'ticking', 'tidal', 'tide', 'tight', 'tighten', 'tightly', 'till', 'time', 'times', 'tinged', 'tint', 'tiny', 'tips', 'tiptoe', 'tire', 'tired', 'tis', 'title', 'to', 'toe', 'toes', 'together', 'token', 'told', 'tolerably', 'tolerant', 'tom', 'tome', 'tomorrow', 'tonbridge', 'tones', 'tongue', 'too', 'took', 'top', 'topic', 'topper', 'topping', 'torch', 'tore', 'torn', 'torturing', 'toss', 'tossing', 'totally', 'tottering', 'touch', 'touches', 'touching', 'towards', 'tower', 'towers', 'town', 'toy', 'trace', 'traced', 'traces', 'track', 'tracking', 'trade', 'trades', 'tradesman', 'traffic', 'tragedy', 'trail', 'train', 'trained', 'trains', 'tramp', 'tramps', 'transacts', 'transpired', 'trap', 'trapped', 'travel', 'travelled', 'travellers', 'travelling', 'tray', 'treated', 'tree', 'trees', 'trembling', 'trespassing', 'trial', 'trick', 'trickled', 'tricks', 'tried', 'trifle', 'trifles', 'trifling', 'trip', 'triumph', 'triumphantly', 'trivial', 'trot', 'trouble', 'troubled', 'troupe', 'trousers', 'truculently', 'true', 'trunk', 'trust', 'trusting', 'truth', 'truths', 'try', 'trying', 'tube', 'tuesday', 'tumbled', 'tunic', 'turf', 'turmoil', 'turn', 'turned', 'turning', 'turns', 'twelve', 'twenty', 'twice', 'twinkle', 'twins', 'twisted', 'twisting', 'twisty', 'two', 'twos', 'type', 'typed', 'types', 'typewritten', 'typical', 'tyre', 'tyres', 'ugly', 'ultimately', 'ultimatum', 'un', 'unable', 'unanimous', 'unannounced', 'unanswered', 'unarmed', 'unavoidable', 'unbroken', 'unbuttoning', 'uncanny', 'uncle', 'uncomfortable', 'uncommunicative', 'uncompleted', 'uncomprehendingly', 'unconnected', 'unconscious', 'uncontrollable', 'uncoupled', 'under', 'undergrowth', 'underlying', 'underneath', 'understand', 'understandable', 'understands', 'understood', 'undertake', 'undeterred', 'undisguised', 'undoing', 'undoubtedly', 'undress', 'undressed', 'unearthly', 'uneasy', 'uneatable', 'uneven', 'unexpected', 'unexpectedly', 'unfair', 'unfeeling', 'unfortunate', 'unfortunately', 'unfounded', 'ungovernable', 'unhampered', 'uniform', 'unimaginative', 'unique', 'unknown', 'unless', 'unlikely', 'unlocked', 'unlooked', 'unmarried', 'unmistakable', 'unnecessarily', 'unnecessary', 'unnerved', 'unoccupied', 'unparalleled', 'unperturbed', 'unpleasant', 'unpopular', 'unprincipled', 'unprocurable', 'unreservedly', 'unsavoury', 'unseen', 'unshaken', 'unsociable', 'unsuccessful', 'unsuitable', 'unthinkable', 'until', 'unusual', 'unusually', 'unworthy', 'up', 'upheaval', 'upkeep', 'upon', 'upper', 'upright', 'upset', 'upsetting', 'upside', 'upstairs', 'upstanding', 'uptake', 'us', 'use', 'used', 'useful', 'useless', 'uses', 'ushered', 'using', 'usual', 'usually', 'utmost', 'utter', 'uttering', 'utterly', 'vaguely', 'valet', 'valets', 'valuable', 'value', 'van', 'vanish', 'vanished', 'vanishes', 'vans', 'varieties', 'variety', 'various', 've', 'vendetta', 'vengeance', 'venomous', 'venture', 'ventured', 'verbatim', 'verbose', 'verdict', 'verge', 'verify', 'veritable', 'very', 'vestibule', 'vestige', 'vet', 'vicar', 'vicarage', 'vicinity', 'vicious', 'vickers', 'victim', 'victims', 'view', 'views', 'vigil', 'vile', 'village', 'villagers', 'villain', 'vindictive', 'violence', 'violently', 'violet', 'virgin', 'virtue', 'visible', 'visibly', 'vision', 'visit', 'visited', 'visiting', 'visitor', 'visitors', 'visits', 'visualise', 'vital', 'vitally', 'voice', 'vouched', 'vowed', 'w', 'wad', 'wade', 'wadebridge', 'waistcoat', 'wait', 'waited', 'waiter', 'waiting', 'waits', 'wake', 'walk', 'walked', 'walking', 'walks', 'wall', 'wallpapers', 'walls', 'wandered', 'wandering', 'want', 'wanted', 'wanting', 'wants', 'war', 'ward', 'warm', 'warming', 'warmly', 'warmth', 'warn', 'warned', 'warning', 'warrant', 'warrior', 'warwick', 'was', 'wash', 'wasn', 'waste', 'wasted', 'wasting', 'watch', 'watched', 'watches', 'watching', 'watchmen', 'water', 'waterlogged', 'waters', 'wave', 'waved', 'waving', 'wax', 'way', 'ways', 'we', 'weakling', 'wealthy', 'weapon', 'weapons', 'wear', 'wearily', 'wearing', 'wearisome', 'weary', 'weather', 'wedded', 'wedged', 'wednesday', 'weed', 'week', 'weekdays', 'weeks', 'weeping', 'weighing', 'weight', 'welcome', 'welfare', 'well', 'wellnigh', 'went', 'were', 'weren', 'wessex', 'west', 'westerners', 'westward', 'wet', 'wetting', 'whack', 'whaler', 'whales', 'what', 'whatever', 'wheels', 'wheezed', 'when', 'whenever', 'where', 'whereabouts', 'whereas', 'wherefore', 'wherein', 'whereupon', 'wherever', 'whether', 'which', 'while', 'whilst', 'whipped', 'whiskies', 'whisky', 'whisper', 'whispered', 'whistle', 'whistled', 'whistling', 'white', 'whites', 'whitewash', 'who', 'whoever', 'whole', 'wholesome', 'whom', 'whoopee', 'whose', 'why', 'wicked', 'wicket', 'wide', 'widely', 'widower', 'width', 'wife', 'wild', 'wildest', 'wildly', 'wilful', 'wilkinson', 'will', 'williams', 'willing', 'willingly', 'wind', 'winding', 'window', 'windows', 'wing', 'wink', 'winking', 'winks', 'wins', 'wipe', 'wire', 'wired', 'wires', 'wise', 'wiser', 'wish', 'wished', 'wishes', 'wit', 'with', 'within', 'without', 'witness', 'witnesses', 'wits', 'wizard', 'wizened', 'woke', 'woman', 'women', 'won', 'wonder', 'wondered', 'wondering', 'wood', 'wooden', 'woodwork', 'word', 'words', 'wore', 'work', 'worked', 'working', 'workman', 'workmen', 'works', 'world', 'worm', 'worn', 'worried', 'worries', 'worry', 'worrying', 'worse', 'worst', 'worth', 'worthy', 'would', 'wouldn', 'wound', 'wrapped', 'wrath', 'wreck', 'wrecked', 'wrenched', 'wretch', 'wretched', 'wriggle', 'wrist', 'write', 'writer', 'writers', 'writing', 'written', 'wrong', 'wronged', 'wrongly', 'wrote', 'x', 'y', 'yard', 'yards', 'yarn', 'yarrow', 'yarrows', 'year', 'years', 'yelled', 'yellow', 'yes', 'yesterday', 'yet', 'yielded', 'yokels', 'yolk', 'yonder', 'yorkshire', 'you', 'young', 'younger', 'youngish', 'youngster', 'your', 'yours', 'yourself', 'yourselves', 'youth', 'zeal']\n",
      "Total number of words:\t100440\n",
      "Length of vocabulary:\t5686\n"
     ]
    }
   ],
   "source": [
    "data_path = \"test_data_long.txt\"\n",
    "raw_text = open(data_path).read().lower()\n",
    "\n",
    "# generate list of unique characters, but only include words and some punctuation marks\n",
    "pattern = re.compile('[a-z]+|\\!|\\n|\\.|,|;')\n",
    "all_words = re.findall(pattern, raw_text)\n",
    "\n",
    "unique_words = sorted(set(all_words))\n",
    "\n",
    "word_to_int = dict((c, i) for i, c in enumerate(unique_words))\n",
    "\n",
    "print(unique_words)\n",
    "# print(word_to_int)\n",
    "\n",
    "# later used to make outputs more readable by converting ints back to characters\n",
    "int_to_word = dict((i, c) for i, c in enumerate(unique_words))\n",
    "\n",
    "total_num_words = len(all_words)\n",
    "len_vocab = len(unique_words)\n",
    "\n",
    "print(\"Total number of words:\\t\" + str(total_num_words))\n",
    "print(\"Length of vocabulary:\\t\" + str(len_vocab))"
   ]
  },
  {
   "cell_type": "markdown",
   "metadata": {},
   "source": [
    "### Define Model\n",
    "\n",
    "I will use a single hidden LSTM layer with 256 memory units and a dropout probability of 20%. The dense layer will use a softmax activation to output a probability prediction for each of the characters, between 0 and 1."
   ]
  },
  {
   "cell_type": "code",
   "execution_count": 147,
   "metadata": {},
   "outputs": [],
   "source": [
    "sequence_length = 5\n",
    "\n",
    "learning_rate = 0.01\n",
    "optimizer = RMSprop(lr=learning_rate)\n",
    "num_memory_units = 256\n",
    "\n",
    "model = Sequential()\n",
    "\n",
    "model.add(LSTM(num_memory_units, input_shape=(sequence_length, len_vocab)))\n",
    "model.add(Dropout(0.2))\n",
    "model.add(Dense(len_vocab))\n",
    "model.add(Activation('softmax'))\n",
    "\n",
    "model.compile(loss='categorical_crossentropy', optimizer=optimizer)"
   ]
  },
  {
   "cell_type": "markdown",
   "metadata": {},
   "source": [
    "\"We are not interested in the most accurate (classification accuracy) model of the training dataset. This would be a model that predicts each character in the training dataset perfectly. Instead we are interested in a generalization of the dataset that minimizes the chosen loss function. We are seeking a balance between generalization and overfitting but short of memorization.\""
   ]
  },
  {
   "cell_type": "markdown",
   "metadata": {},
   "source": [
    "## Predict"
   ]
  },
  {
   "cell_type": "code",
   "execution_count": 148,
   "metadata": {
    "collapsed": true
   },
   "outputs": [],
   "source": [
    "def add_temperature(preds, temperature=1.0):\n",
    "    # helper function to sample an index from a probability array\n",
    "    preds = np.asarray(preds).astype('float64')\n",
    "    preds = np.log(preds) / temperature\n",
    "    exp_preds = np.exp(preds)\n",
    "    preds = exp_preds / np.sum(exp_preds)\n",
    "    probas = np.random.multinomial(1, preds, 1)\n",
    "    return np.argmax(probas)"
   ]
  },
  {
   "cell_type": "code",
   "execution_count": 149,
   "metadata": {},
   "outputs": [],
   "source": [
    "def get_random_word(n=1, array=unique_words):\n",
    "\n",
    "    random_words = []\n",
    "    \n",
    "    random_indices = random.sample(range(0, len(array)), n)\n",
    "    \n",
    "    # in-place shuffle\n",
    "    random.shuffle(array)\n",
    "\n",
    "    # take the first n elements of the now randomized array\n",
    "    return array[:n]"
   ]
  },
  {
   "cell_type": "code",
   "execution_count": 150,
   "metadata": {},
   "outputs": [],
   "source": [
    "# load weights\n",
    "weights_path = '_weights_words.hdf5'\n",
    "model.load_weights(weights_path)\n",
    "model.compile(loss='categorical_crossentropy', optimizer='adam')"
   ]
  },
  {
   "cell_type": "markdown",
   "metadata": {},
   "source": [
    "The process of predicting goes something like this:\n",
    "\n",
    "1. Generate a seed sequence as input\n",
    "2. Generate the next character\n",
    "3. Update the seed sequece to add the generated character<br>\n",
    "    3.1. Add the generated character to the end<br>\n",
    "    3.2. Trim the first character\n",
    "    \n",
    "This is repeated an arbitrary number of times - for as many characters one wants to generate."
   ]
  },
  {
   "cell_type": "markdown",
   "metadata": {},
   "source": [
    "### Handle User Input"
   ]
  },
  {
   "cell_type": "code",
   "execution_count": 151,
   "metadata": {
    "collapsed": true
   },
   "outputs": [],
   "source": [
    "random_seed = False"
   ]
  },
  {
   "cell_type": "code",
   "execution_count": 152,
   "metadata": {},
   "outputs": [
    {
     "name": "stdout",
     "output_type": "stream",
     "text": [
      "knees\n"
     ]
    }
   ],
   "source": [
    "test = get_random_word(5)[0]\n",
    "print(test)"
   ]
  },
  {
   "cell_type": "code",
   "execution_count": 166,
   "metadata": {},
   "outputs": [
    {
     "name": "stdout",
     "output_type": "stream",
     "text": [
      "-> seed: \"this is some string entered by a\n",
      "user\" ...\n",
      "\n"
     ]
    }
   ],
   "source": [
    "# user_input = \"this is some string entered by a user this is some string entered by a user this is some string entered by a user\"\n",
    "user_input = \"this is some string entered by a\\nuser\"\n",
    "words_to_generate = 400\n",
    "seed_sentence = [\"\\n\"] * sequence_length\n",
    "\n",
    "if not random_seed:\n",
    "\n",
    "    pattern = re.compile('[a-z]+|\\!|\\n|\\.|,|;')\n",
    "    user_input_edit = user_input.lower()\n",
    "    user_input_edit = re.findall(pattern, user_input)\n",
    "\n",
    "    if (len(user_input_edit) > sequence_length):\n",
    "        # need to truncate\n",
    "        \n",
    "        seed_sentence = user_input_edit[:sequence_length]\n",
    "        \n",
    "    elif (len(user_input_edit) < sequence_length):\n",
    "        # need to pad\n",
    "        \n",
    "        # get number of elements missing in user input\n",
    "        missing_elems = sequence_length - len(user_input_edit)\n",
    "        \n",
    "        seed_sentence[0:missing_elems+1] = get_random_word(missing_elems)\n",
    "        seed_sentence[-(len(user_input_edit)):] = user_input_edit\n",
    "        \n",
    "    # check all words provided are in the vocabulary\n",
    "    for i, word in enumerate(seed_sentence):\n",
    "        # if it doesnt exist, replace it with one that does\n",
    "        if word not in word_to_int.keys():\n",
    "            seed_sentence[i] = get_random_word()[0]\n",
    "    \n",
    "    print('-> seed: \"' + user_input + '\" ...\\n')\n",
    "\n",
    "else:\n",
    "\n",
    "    # pick a random seed\n",
    "    random_index_start = np.random.randint(0, total_num_words - sequence_length - 1)\n",
    "    seed_sentence = all_words[random_index_start : random_index_start + sequence_length]\n",
    "    \n",
    "    print('-> seed: \"' + ' '.join(seed_sentence) + '\" ...')"
   ]
  },
  {
   "cell_type": "code",
   "execution_count": 167,
   "metadata": {},
   "outputs": [
    {
     "name": "stdout",
     "output_type": "stream",
     "text": [
      " here years yarrow road a\n",
      " frankly\n",
      " your, my sir she can get him then sooner. that. that him point\n",
      " up his he he if again what the was brackenbury it a a which months\n",
      " to to.\n",
      " i he it much we being him about more before had he, flung.. train that\n",
      " wanted benton in a four i heard inspector a later richard me in you find\n",
      " obviously in pocket daynton the tell anything, do, no to a to. in we\n",
      " have had seen at could no from. send, stand,, one\n",
      " a well miss\n",
      " the when know your moment recently what have to. in that\n",
      " absolutely. so that got to something had to moody he,,,\n",
      ",, boy the in, light came jack, a to out overheard him\n",
      " lord, much in a off my.\n",
      " the dear is the on he gone a got for. car set to\n",
      " man very when post him the yet.\n",
      " that remember how on quarrel very best to you examination. shall and for back years.\n",
      " of, upstairs,, and much do\n",
      " the\n",
      ", the of frankly sitting his golf report can dead car to. had itself the. had\n",
      " just use seized. in sergeant ronald we put his his.\n",
      " now a, to will, a clubs he, one someone a\n",
      ".\n",
      " ronald one do won happen his o, the\n",
      ", the won jack near one murdered say s.\n",
      " both of, said no. now\n",
      ", hand in s one the s going don have. quite making think the had merely after he breakfast and started to\n",
      " more more\n",
      " he gentlemen i should you tell that you go, an, of mind\n",
      " will unless m sooner what it it it it was.\n",
      " a nearly a mr greycourt yarrow a, won by anybody on\n",
      " in apparently that no to tell what you asking,, her is at\n",
      " of.\n",
      " seen is one the in paid right should said some time letters do not\n"
     ]
    }
   ],
   "source": [
    "for i in range(words_to_generate):\n",
    "        \n",
    "    x_input = np.zeros((1, sequence_length, len_vocab))\n",
    "    for t, word in enumerate(seed_sentence):\n",
    "        x_input[0, t, word_to_int[word]] = 1.\n",
    "\n",
    "    predictions = model.predict(x_input, verbose=0)[0]\n",
    "    predicted_word_index = add_temperature(predictions, 0.5)\n",
    "    predicted_word = int_to_word[predicted_word_index]\n",
    "\n",
    "    seed_sentence = seed_sentence[1:] + list([predicted_word])\n",
    "\n",
    "    if re.match('[a-z]', predicted_word):\n",
    "        sys.stdout.write(\" \" + predicted_word)\n",
    "    else:\n",
    "        sys.stdout.write(predicted_word)\n",
    "\n",
    "    sys.stdout.flush()"
   ]
  },
  {
   "cell_type": "markdown",
   "metadata": {},
   "source": [
    "* https://github.com/fchollet/keras/blob/master/examples/lstm_text_generation.py\n",
    "* https://machinelearningmastery.com/text-generation-lstm-recurrent-neural-networks-python-keras/"
   ]
  },
  {
   "cell_type": "code",
   "execution_count": null,
   "metadata": {
    "collapsed": true
   },
   "outputs": [],
   "source": []
  }
 ],
 "metadata": {
  "kernelspec": {
   "display_name": "Python 3",
   "language": "python",
   "name": "python3"
  },
  "language_info": {
   "codemirror_mode": {
    "name": "ipython",
    "version": 3
   },
   "file_extension": ".py",
   "mimetype": "text/x-python",
   "name": "python",
   "nbconvert_exporter": "python",
   "pygments_lexer": "ipython3",
   "version": "3.6.1"
  }
 },
 "nbformat": 4,
 "nbformat_minor": 2
}
